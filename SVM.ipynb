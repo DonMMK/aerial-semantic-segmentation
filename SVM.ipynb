{
 "cells": [
  {
   "cell_type": "code",
   "execution_count": null,
   "metadata": {},
   "outputs": [],
   "source": []
  }
 ],
 "metadata": {
  "kernelspec": {
   "display_name": "cab420",
   "language": "python",
   "name": "python3"
  },
  "language_info": {
   "name": "python",
   "version": "3.10.8"
  },
  "orig_nbformat": 4,
  "vscode": {
   "interpreter": {
    "hash": "45b47186e6dc02e8188f53c9d4fddcabd6ad86b62bbaffc23eab8b6b15b0a547"
   }
  }
 },
 "nbformat": 4,
 "nbformat_minor": 2
}
