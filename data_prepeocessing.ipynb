{
 "cells": [
  {
   "cell_type": "code",
   "execution_count": 3,
   "metadata": {},
   "outputs": [
    {
     "name": "stdout",
     "output_type": "stream",
     "text": [
      "<class 'pandas.core.frame.DataFrame'>\n",
      "RangeIndex: 24 entries, 0 to 23\n",
      "Data columns (total 4 columns):\n",
      " #   Column  Non-Null Count  Dtype \n",
      "---  ------  --------------  ----- \n",
      " 0   name    24 non-null     object\n",
      " 1    r      24 non-null     int64 \n",
      " 2    g      24 non-null     int64 \n",
      " 3    b      24 non-null     int64 \n",
      "dtypes: int64(3), object(1)\n",
      "memory usage: 896.0+ bytes\n"
     ]
    },
    {
     "data": {
      "text/plain": [
       "name    0\n",
       " r      0\n",
       " g      0\n",
       " b      0\n",
       "dtype: int64"
      ]
     },
     "execution_count": 3,
     "metadata": {},
     "output_type": "execute_result"
    }
   ],
   "source": [
    "# import the data from the dataset_here folder\n",
    "# clean the data\n",
    "# save the data in the data_cleaned folder\n",
    "\n",
    "import pandas as pd\n",
    "import numpy as np\n",
    "import matplotlib.pyplot as plt\n",
    "import seaborn as sns\n",
    "import os\n",
    "import re\n",
    "\n",
    "\n",
    "# import the data\n",
    "data = pd.read_csv('dataset_here/class_dict_seg.csv')\n",
    "\n",
    "# check the data\n",
    "data.head()\n",
    "\n",
    "# check the shape of the data\n",
    "data.shape\n",
    "\n",
    "# check the info of the data\n",
    "data.info()\n",
    "\n",
    "# check the null values\n",
    "data.isnull().sum()\n",
    "\n"
   ]
  }
 ],
 "metadata": {
  "kernelspec": {
   "display_name": "cab420",
   "language": "python",
   "name": "python3"
  },
  "language_info": {
   "codemirror_mode": {
    "name": "ipython",
    "version": 3
   },
   "file_extension": ".py",
   "mimetype": "text/x-python",
   "name": "python",
   "nbconvert_exporter": "python",
   "pygments_lexer": "ipython3",
   "version": "3.10.8"
  },
  "orig_nbformat": 4,
  "vscode": {
   "interpreter": {
    "hash": "45b47186e6dc02e8188f53c9d4fddcabd6ad86b62bbaffc23eab8b6b15b0a547"
   }
  }
 },
 "nbformat": 4,
 "nbformat_minor": 2
}
